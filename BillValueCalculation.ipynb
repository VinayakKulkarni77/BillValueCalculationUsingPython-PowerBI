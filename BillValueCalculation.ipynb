{
 "cells": [
  {
   "cell_type": "markdown",
   "id": "4ccb80cf",
   "metadata": {},
   "source": [
    "# Mr.Vinayak Vijay Kulkarni"
   ]
  },
  {
   "cell_type": "code",
   "execution_count": 1,
   "id": "7235d7ec",
   "metadata": {},
   "outputs": [],
   "source": [
    "import numpy as np\n",
    "import pandas as pd"
   ]
  },
  {
   "cell_type": "code",
   "execution_count": 2,
   "id": "bb0cbef9",
   "metadata": {},
   "outputs": [
    {
     "data": {
      "text/html": [
       "<div>\n",
       "<style scoped>\n",
       "    .dataframe tbody tr th:only-of-type {\n",
       "        vertical-align: middle;\n",
       "    }\n",
       "\n",
       "    .dataframe tbody tr th {\n",
       "        vertical-align: top;\n",
       "    }\n",
       "\n",
       "    .dataframe thead th {\n",
       "        text-align: right;\n",
       "    }\n",
       "</style>\n",
       "<table border=\"1\" class=\"dataframe\">\n",
       "  <thead>\n",
       "    <tr style=\"text-align: right;\">\n",
       "      <th></th>\n",
       "      <th>Plan ID</th>\n",
       "      <th>PlanName</th>\n",
       "      <th>UsageRateSlabs</th>\n",
       "      <th>Usage</th>\n",
       "    </tr>\n",
       "  </thead>\n",
       "  <tbody>\n",
       "    <tr>\n",
       "      <th>0</th>\n",
       "      <td>1</td>\n",
       "      <td>PlanA</td>\n",
       "      <td>10000,0.25|10000,0.20|10000,0.15|99999,0.10</td>\n",
       "      <td>33000</td>\n",
       "    </tr>\n",
       "    <tr>\n",
       "      <th>1</th>\n",
       "      <td>2</td>\n",
       "      <td>PlanB</td>\n",
       "      <td>5000,0.30|10000,0.25|15000,0.20|25000,0.15|999...</td>\n",
       "      <td>33000</td>\n",
       "    </tr>\n",
       "    <tr>\n",
       "      <th>2</th>\n",
       "      <td>3</td>\n",
       "      <td>PlanC</td>\n",
       "      <td>5000,0.25|10000,0.20|99999,0.15</td>\n",
       "      <td>33000</td>\n",
       "    </tr>\n",
       "    <tr>\n",
       "      <th>3</th>\n",
       "      <td>4</td>\n",
       "      <td>PlanD</td>\n",
       "      <td>999999,0.25</td>\n",
       "      <td>33000</td>\n",
       "    </tr>\n",
       "    <tr>\n",
       "      <th>4</th>\n",
       "      <td>5</td>\n",
       "      <td>PlanE</td>\n",
       "      <td>25000,0.25|999999,0.20</td>\n",
       "      <td>33000</td>\n",
       "    </tr>\n",
       "  </tbody>\n",
       "</table>\n",
       "</div>"
      ],
      "text/plain": [
       "   Plan ID PlanName                                     UsageRateSlabs  Usage\n",
       "0        1    PlanA        10000,0.25|10000,0.20|10000,0.15|99999,0.10  33000\n",
       "1        2    PlanB  5000,0.30|10000,0.25|15000,0.20|25000,0.15|999...  33000\n",
       "2        3    PlanC                    5000,0.25|10000,0.20|99999,0.15  33000\n",
       "3        4    PlanD                                        999999,0.25  33000\n",
       "4        5    PlanE                             25000,0.25|999999,0.20  33000"
      ]
     },
     "execution_count": 2,
     "metadata": {},
     "output_type": "execute_result"
    }
   ],
   "source": [
    "df=pd.read_excel('DataTest.xlsx')\n",
    "df"
   ]
  },
  {
   "cell_type": "code",
   "execution_count": 3,
   "id": "c85ed126",
   "metadata": {},
   "outputs": [
    {
     "data": {
      "text/plain": [
       "0          10000,0.25|10000,0.20|10000,0.15|99999,0.10\n",
       "1    5000,0.30|10000,0.25|15000,0.20|25000,0.15|999...\n",
       "2                      5000,0.25|10000,0.20|99999,0.15\n",
       "3                                          999999,0.25\n",
       "4                               25000,0.25|999999,0.20\n",
       "Name: UsageRateSlabs, dtype: object"
      ]
     },
     "execution_count": 3,
     "metadata": {},
     "output_type": "execute_result"
    }
   ],
   "source": [
    "df['UsageRateSlabs']"
   ]
  },
  {
   "cell_type": "markdown",
   "id": "2b7ca7cb",
   "metadata": {},
   "source": [
    "# To remove the | mark from UsageRateSlabs column"
   ]
  },
  {
   "cell_type": "code",
   "execution_count": 4,
   "id": "44031290",
   "metadata": {},
   "outputs": [],
   "source": [
    "updated_slab=list()\n",
    "\n",
    "for j in range(0,len(df)):\n",
    "    updated_slab.append(df['UsageRateSlabs'][j].split('|'))"
   ]
  },
  {
   "cell_type": "code",
   "execution_count": 5,
   "id": "427b9ab3",
   "metadata": {},
   "outputs": [
    {
     "data": {
      "text/plain": [
       "[['10000,0.25', '10000,0.20', '10000,0.15', '99999,0.10'],\n",
       " ['5000,0.30', '10000,0.25', '15000,0.20', '25000,0.15', '99999,0.10'],\n",
       " ['5000,0.25', '10000,0.20', '99999,0.15'],\n",
       " ['999999,0.25'],\n",
       " ['25000,0.25', '999999,0.20']]"
      ]
     },
     "execution_count": 5,
     "metadata": {},
     "output_type": "execute_result"
    }
   ],
   "source": [
    "updated_slab"
   ]
  },
  {
   "cell_type": "code",
   "execution_count": 6,
   "id": "c9cf96c2",
   "metadata": {},
   "outputs": [
    {
     "data": {
      "text/plain": [
       "str"
      ]
     },
     "execution_count": 6,
     "metadata": {},
     "output_type": "execute_result"
    }
   ],
   "source": [
    "type(updated_slab[0][0])"
   ]
  },
  {
   "cell_type": "markdown",
   "id": "6095c68e",
   "metadata": {},
   "source": [
    "# Remove comma from values and storing it in a nested sublist"
   ]
  },
  {
   "cell_type": "code",
   "execution_count": 7,
   "id": "4997f018",
   "metadata": {},
   "outputs": [],
   "source": [
    "lst = [[] for _ in range(len(updated_slab))]"
   ]
  },
  {
   "cell_type": "code",
   "execution_count": 8,
   "id": "67cd54be",
   "metadata": {},
   "outputs": [
    {
     "data": {
      "text/plain": [
       "[[], [], [], [], []]"
      ]
     },
     "execution_count": 8,
     "metadata": {},
     "output_type": "execute_result"
    }
   ],
   "source": [
    "lst"
   ]
  },
  {
   "cell_type": "code",
   "execution_count": 9,
   "id": "9d78ef0d",
   "metadata": {},
   "outputs": [],
   "source": [
    "for r in range(len(updated_slab)):\n",
    "    for c in range(len(updated_slab[r])):\n",
    "        lst[r].append(updated_slab[r][c].split(','))\n",
    "\n"
   ]
  },
  {
   "cell_type": "code",
   "execution_count": 10,
   "id": "272bbab4",
   "metadata": {},
   "outputs": [
    {
     "data": {
      "text/plain": [
       "[[['10000', '0.25'], ['10000', '0.20'], ['10000', '0.15'], ['99999', '0.10']],\n",
       " [['5000', '0.30'],\n",
       "  ['10000', '0.25'],\n",
       "  ['15000', '0.20'],\n",
       "  ['25000', '0.15'],\n",
       "  ['99999', '0.10']],\n",
       " [['5000', '0.25'], ['10000', '0.20'], ['99999', '0.15']],\n",
       " [['999999', '0.25']],\n",
       " [['25000', '0.25'], ['999999', '0.20']]]"
      ]
     },
     "execution_count": 10,
     "metadata": {},
     "output_type": "execute_result"
    }
   ],
   "source": [
    "lst"
   ]
  },
  {
   "cell_type": "markdown",
   "id": "503ba1e7",
   "metadata": {},
   "source": [
    "## Add column New_slab in data frame"
   ]
  },
  {
   "cell_type": "code",
   "execution_count": 11,
   "id": "d06e5e77",
   "metadata": {},
   "outputs": [],
   "source": [
    "df['New_slab']=lst"
   ]
  },
  {
   "cell_type": "code",
   "execution_count": 12,
   "id": "276f90b6",
   "metadata": {},
   "outputs": [
    {
     "data": {
      "text/html": [
       "<div>\n",
       "<style scoped>\n",
       "    .dataframe tbody tr th:only-of-type {\n",
       "        vertical-align: middle;\n",
       "    }\n",
       "\n",
       "    .dataframe tbody tr th {\n",
       "        vertical-align: top;\n",
       "    }\n",
       "\n",
       "    .dataframe thead th {\n",
       "        text-align: right;\n",
       "    }\n",
       "</style>\n",
       "<table border=\"1\" class=\"dataframe\">\n",
       "  <thead>\n",
       "    <tr style=\"text-align: right;\">\n",
       "      <th></th>\n",
       "      <th>Plan ID</th>\n",
       "      <th>PlanName</th>\n",
       "      <th>UsageRateSlabs</th>\n",
       "      <th>Usage</th>\n",
       "      <th>New_slab</th>\n",
       "    </tr>\n",
       "  </thead>\n",
       "  <tbody>\n",
       "    <tr>\n",
       "      <th>0</th>\n",
       "      <td>1</td>\n",
       "      <td>PlanA</td>\n",
       "      <td>10000,0.25|10000,0.20|10000,0.15|99999,0.10</td>\n",
       "      <td>33000</td>\n",
       "      <td>[[10000, 0.25], [10000, 0.20], [10000, 0.15], ...</td>\n",
       "    </tr>\n",
       "    <tr>\n",
       "      <th>1</th>\n",
       "      <td>2</td>\n",
       "      <td>PlanB</td>\n",
       "      <td>5000,0.30|10000,0.25|15000,0.20|25000,0.15|999...</td>\n",
       "      <td>33000</td>\n",
       "      <td>[[5000, 0.30], [10000, 0.25], [15000, 0.20], [...</td>\n",
       "    </tr>\n",
       "    <tr>\n",
       "      <th>2</th>\n",
       "      <td>3</td>\n",
       "      <td>PlanC</td>\n",
       "      <td>5000,0.25|10000,0.20|99999,0.15</td>\n",
       "      <td>33000</td>\n",
       "      <td>[[5000, 0.25], [10000, 0.20], [99999, 0.15]]</td>\n",
       "    </tr>\n",
       "    <tr>\n",
       "      <th>3</th>\n",
       "      <td>4</td>\n",
       "      <td>PlanD</td>\n",
       "      <td>999999,0.25</td>\n",
       "      <td>33000</td>\n",
       "      <td>[[999999, 0.25]]</td>\n",
       "    </tr>\n",
       "    <tr>\n",
       "      <th>4</th>\n",
       "      <td>5</td>\n",
       "      <td>PlanE</td>\n",
       "      <td>25000,0.25|999999,0.20</td>\n",
       "      <td>33000</td>\n",
       "      <td>[[25000, 0.25], [999999, 0.20]]</td>\n",
       "    </tr>\n",
       "  </tbody>\n",
       "</table>\n",
       "</div>"
      ],
      "text/plain": [
       "   Plan ID PlanName                                     UsageRateSlabs  Usage  \\\n",
       "0        1    PlanA        10000,0.25|10000,0.20|10000,0.15|99999,0.10  33000   \n",
       "1        2    PlanB  5000,0.30|10000,0.25|15000,0.20|25000,0.15|999...  33000   \n",
       "2        3    PlanC                    5000,0.25|10000,0.20|99999,0.15  33000   \n",
       "3        4    PlanD                                        999999,0.25  33000   \n",
       "4        5    PlanE                             25000,0.25|999999,0.20  33000   \n",
       "\n",
       "                                            New_slab  \n",
       "0  [[10000, 0.25], [10000, 0.20], [10000, 0.15], ...  \n",
       "1  [[5000, 0.30], [10000, 0.25], [15000, 0.20], [...  \n",
       "2       [[5000, 0.25], [10000, 0.20], [99999, 0.15]]  \n",
       "3                                   [[999999, 0.25]]  \n",
       "4                    [[25000, 0.25], [999999, 0.20]]  "
      ]
     },
     "execution_count": 12,
     "metadata": {},
     "output_type": "execute_result"
    }
   ],
   "source": [
    "df"
   ]
  },
  {
   "cell_type": "code",
   "execution_count": 13,
   "id": "8882ebfc",
   "metadata": {},
   "outputs": [
    {
     "name": "stdout",
     "output_type": "stream",
     "text": [
      "<class 'pandas.core.frame.DataFrame'>\n",
      "RangeIndex: 5 entries, 0 to 4\n",
      "Data columns (total 5 columns):\n",
      " #   Column          Non-Null Count  Dtype \n",
      "---  ------          --------------  ----- \n",
      " 0   Plan ID         5 non-null      int64 \n",
      " 1   PlanName        5 non-null      object\n",
      " 2   UsageRateSlabs  5 non-null      object\n",
      " 3   Usage           5 non-null      int64 \n",
      " 4   New_slab        5 non-null      object\n",
      "dtypes: int64(2), object(3)\n",
      "memory usage: 328.0+ bytes\n"
     ]
    }
   ],
   "source": [
    "df.info()"
   ]
  },
  {
   "cell_type": "code",
   "execution_count": 16,
   "id": "8af62242",
   "metadata": {},
   "outputs": [
    {
     "data": {
      "text/plain": [
       "[[['10000', '0.25'], ['10000', '0.20'], ['10000', '0.15'], ['99999', '0.10']],\n",
       " [['5000', '0.30'],\n",
       "  ['10000', '0.25'],\n",
       "  ['15000', '0.20'],\n",
       "  ['25000', '0.15'],\n",
       "  ['99999', '0.10']],\n",
       " [['5000', '0.25'], ['10000', '0.20'], ['99999', '0.15']],\n",
       " [['999999', '0.25']],\n",
       " [['25000', '0.25'], ['999999', '0.20']]]"
      ]
     },
     "execution_count": 16,
     "metadata": {},
     "output_type": "execute_result"
    }
   ],
   "source": [
    "lst"
   ]
  },
  {
   "cell_type": "markdown",
   "id": "5f8ce5ca",
   "metadata": {},
   "source": [
    "# To calculate the slab value for each sublist"
   ]
  },
  {
   "cell_type": "code",
   "execution_count": 17,
   "id": "f4b75721",
   "metadata": {},
   "outputs": [],
   "source": [
    "lst_calc2 = [[] for _ in range(len(lst))]"
   ]
  },
  {
   "cell_type": "code",
   "execution_count": 18,
   "id": "3b5d9fce",
   "metadata": {},
   "outputs": [],
   "source": [
    "def calculate_slab3(lst):\n",
    "    std_usage=33000\n",
    "    \n",
    "    \n",
    "    for i in range(len(lst)):\n",
    "        usage=0\n",
    "        for j in range(len(lst[i])):\n",
    "            #std_usage=33000\n",
    "            #usage=0\n",
    "            #new_usage=0\n",
    "            for k in range(len(lst[i][j])-1):\n",
    "                usage=usage+int(lst[i][j][k])\n",
    "                #print(usage)\n",
    "                if usage<=33000:\n",
    "                    lst_calc2[i].append(int(lst[i][j][k])*float(lst[i][j][k+1]))\n",
    "                    \n",
    "                      \n",
    "                elif usage>33000:\n",
    "                    \n",
    "                    usage1=usage-int(lst[i][j][k])\n",
    "                    \n",
    "                    if usage1==0:\n",
    "                        lst_calc2[i].append(std_usage*float(lst[i][j][k+1]))\n",
    "                    elif usage1>0:\n",
    "                        usage=usage-int(lst[i][j][k])\n",
    "                        new_usage=std_usage-usage\n",
    "                        #print(new_usage)\n",
    "                        lst_calc2[i].append(new_usage*float(lst[i][j][k+1]))\n",
    "                        \n",
    "                \n",
    "                    \n",
    "                \n",
    "    return lst_calc2\n",
    "    "
   ]
  },
  {
   "cell_type": "code",
   "execution_count": 19,
   "id": "6cd73ade",
   "metadata": {},
   "outputs": [],
   "source": [
    "Final_slab=calculate_slab3(lst)\n",
    "#calculate_slab3(lst)"
   ]
  },
  {
   "cell_type": "code",
   "execution_count": 20,
   "id": "9dd48c2b",
   "metadata": {},
   "outputs": [
    {
     "data": {
      "text/plain": [
       "[[2500.0, 2000.0, 1500.0, 300.0],\n",
       " [1500.0, 2500.0, 3000.0, 450.0, 300.0],\n",
       " [1250.0, 2000.0, 2700.0],\n",
       " [8250.0],\n",
       " [6250.0, 1600.0]]"
      ]
     },
     "execution_count": 20,
     "metadata": {},
     "output_type": "execute_result"
    }
   ],
   "source": [
    "Final_slab"
   ]
  },
  {
   "cell_type": "markdown",
   "id": "30fc274c",
   "metadata": {},
   "source": [
    "# To calculate the final bill value for each plan "
   ]
  },
  {
   "cell_type": "code",
   "execution_count": 25,
   "id": "b10bf7b4",
   "metadata": {},
   "outputs": [],
   "source": [
    "slab_lst=[]\n",
    "\n",
    "for i in range(len(Final_slab)):\n",
    "    slab=0\n",
    "    for j in range(len(Final_slab[i])):\n",
    "        slab=slab+Final_slab[i][j]\n",
    "    slab_lst.append(slab)\n",
    "    \n",
    "    "
   ]
  },
  {
   "cell_type": "code",
   "execution_count": 26,
   "id": "eaac3d2e",
   "metadata": {},
   "outputs": [
    {
     "data": {
      "text/plain": [
       "[6300.0, 7750.0, 5950.0, 8250.0, 7850.0]"
      ]
     },
     "execution_count": 26,
     "metadata": {},
     "output_type": "execute_result"
    }
   ],
   "source": [
    "slab_lst"
   ]
  },
  {
   "cell_type": "markdown",
   "id": "2b19fd77",
   "metadata": {},
   "source": [
    "# Add a new column Bill Value in Dataframe"
   ]
  },
  {
   "cell_type": "code",
   "execution_count": 27,
   "id": "d0dca6d4",
   "metadata": {},
   "outputs": [],
   "source": [
    "df['BillValue']=slab_lst"
   ]
  },
  {
   "cell_type": "code",
   "execution_count": 28,
   "id": "d00fe907",
   "metadata": {},
   "outputs": [
    {
     "data": {
      "text/html": [
       "<div>\n",
       "<style scoped>\n",
       "    .dataframe tbody tr th:only-of-type {\n",
       "        vertical-align: middle;\n",
       "    }\n",
       "\n",
       "    .dataframe tbody tr th {\n",
       "        vertical-align: top;\n",
       "    }\n",
       "\n",
       "    .dataframe thead th {\n",
       "        text-align: right;\n",
       "    }\n",
       "</style>\n",
       "<table border=\"1\" class=\"dataframe\">\n",
       "  <thead>\n",
       "    <tr style=\"text-align: right;\">\n",
       "      <th></th>\n",
       "      <th>Plan ID</th>\n",
       "      <th>PlanName</th>\n",
       "      <th>UsageRateSlabs</th>\n",
       "      <th>Usage</th>\n",
       "      <th>New_slab</th>\n",
       "      <th>BillValue</th>\n",
       "    </tr>\n",
       "  </thead>\n",
       "  <tbody>\n",
       "    <tr>\n",
       "      <th>0</th>\n",
       "      <td>1</td>\n",
       "      <td>PlanA</td>\n",
       "      <td>10000,0.25|10000,0.20|10000,0.15|99999,0.10</td>\n",
       "      <td>33000</td>\n",
       "      <td>[[10000, 0.25], [10000, 0.20], [10000, 0.15], ...</td>\n",
       "      <td>6300.0</td>\n",
       "    </tr>\n",
       "    <tr>\n",
       "      <th>1</th>\n",
       "      <td>2</td>\n",
       "      <td>PlanB</td>\n",
       "      <td>5000,0.30|10000,0.25|15000,0.20|25000,0.15|999...</td>\n",
       "      <td>33000</td>\n",
       "      <td>[[5000, 0.30], [10000, 0.25], [15000, 0.20], [...</td>\n",
       "      <td>7750.0</td>\n",
       "    </tr>\n",
       "    <tr>\n",
       "      <th>2</th>\n",
       "      <td>3</td>\n",
       "      <td>PlanC</td>\n",
       "      <td>5000,0.25|10000,0.20|99999,0.15</td>\n",
       "      <td>33000</td>\n",
       "      <td>[[5000, 0.25], [10000, 0.20], [99999, 0.15]]</td>\n",
       "      <td>5950.0</td>\n",
       "    </tr>\n",
       "    <tr>\n",
       "      <th>3</th>\n",
       "      <td>4</td>\n",
       "      <td>PlanD</td>\n",
       "      <td>999999,0.25</td>\n",
       "      <td>33000</td>\n",
       "      <td>[[999999, 0.25]]</td>\n",
       "      <td>8250.0</td>\n",
       "    </tr>\n",
       "    <tr>\n",
       "      <th>4</th>\n",
       "      <td>5</td>\n",
       "      <td>PlanE</td>\n",
       "      <td>25000,0.25|999999,0.20</td>\n",
       "      <td>33000</td>\n",
       "      <td>[[25000, 0.25], [999999, 0.20]]</td>\n",
       "      <td>7850.0</td>\n",
       "    </tr>\n",
       "  </tbody>\n",
       "</table>\n",
       "</div>"
      ],
      "text/plain": [
       "   Plan ID PlanName                                     UsageRateSlabs  Usage  \\\n",
       "0        1    PlanA        10000,0.25|10000,0.20|10000,0.15|99999,0.10  33000   \n",
       "1        2    PlanB  5000,0.30|10000,0.25|15000,0.20|25000,0.15|999...  33000   \n",
       "2        3    PlanC                    5000,0.25|10000,0.20|99999,0.15  33000   \n",
       "3        4    PlanD                                        999999,0.25  33000   \n",
       "4        5    PlanE                             25000,0.25|999999,0.20  33000   \n",
       "\n",
       "                                            New_slab  BillValue  \n",
       "0  [[10000, 0.25], [10000, 0.20], [10000, 0.15], ...     6300.0  \n",
       "1  [[5000, 0.30], [10000, 0.25], [15000, 0.20], [...     7750.0  \n",
       "2       [[5000, 0.25], [10000, 0.20], [99999, 0.15]]     5950.0  \n",
       "3                                   [[999999, 0.25]]     8250.0  \n",
       "4                    [[25000, 0.25], [999999, 0.20]]     7850.0  "
      ]
     },
     "execution_count": 28,
     "metadata": {},
     "output_type": "execute_result"
    }
   ],
   "source": [
    "df"
   ]
  },
  {
   "cell_type": "code",
   "execution_count": 30,
   "id": "72d52890",
   "metadata": {},
   "outputs": [],
   "source": [
    "df.to_excel(\"FinalDataTest.xlsx\")"
   ]
  }
 ],
 "metadata": {
  "kernelspec": {
   "display_name": "Python 3 (ipykernel)",
   "language": "python",
   "name": "python3"
  },
  "language_info": {
   "codemirror_mode": {
    "name": "ipython",
    "version": 3
   },
   "file_extension": ".py",
   "mimetype": "text/x-python",
   "name": "python",
   "nbconvert_exporter": "python",
   "pygments_lexer": "ipython3",
   "version": "3.9.7"
  }
 },
 "nbformat": 4,
 "nbformat_minor": 5
}
